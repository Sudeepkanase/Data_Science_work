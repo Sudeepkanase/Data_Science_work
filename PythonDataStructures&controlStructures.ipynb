{
 "cells": [
  {
   "cell_type": "markdown",
   "id": "fe038332",
   "metadata": {},
   "source": [
    "#### Section A: Data Structures & Control Structures"
   ]
  },
  {
   "cell_type": "markdown",
   "id": "38259da9",
   "metadata": {},
   "source": [
    "1. Create a list of 5 integers. Perform and print the result of the following operations: append, extend, insert, remove, pop, clear, index, count, sort, and reverse"
   ]
  },
  {
   "cell_type": "code",
   "execution_count": 20,
   "id": "998c2834",
   "metadata": {},
   "outputs": [],
   "source": [
    "lst = [5,6,8,9,1] #creating list of 5 integers"
   ]
  },
  {
   "cell_type": "code",
   "execution_count": 21,
   "id": "8b6665c7",
   "metadata": {},
   "outputs": [],
   "source": [
    "lst.append(7) #append() used to add integer "
   ]
  },
  {
   "cell_type": "code",
   "execution_count": 22,
   "id": "f2979794",
   "metadata": {},
   "outputs": [
    {
     "data": {
      "text/plain": [
       "[5, 6, 8, 9, 1, 7]"
      ]
     },
     "execution_count": 22,
     "metadata": {},
     "output_type": "execute_result"
    }
   ],
   "source": [
    "lst"
   ]
  },
  {
   "cell_type": "code",
   "execution_count": 23,
   "id": "d73f901d",
   "metadata": {},
   "outputs": [
    {
     "data": {
      "text/plain": [
       "[5, 6, 8, 9, 1, 7, 10, 11, 12]"
      ]
     },
     "execution_count": 23,
     "metadata": {},
     "output_type": "execute_result"
    }
   ],
   "source": [
    "lst.extend([10,11,12]) #it's loops through every item and adds it to the original list\n",
    "lst"
   ]
  },
  {
   "cell_type": "code",
   "execution_count": 24,
   "id": "990ebeff",
   "metadata": {},
   "outputs": [
    {
     "data": {
      "text/plain": [
       "[5, 6, 3, 8, 9, 1, 7, 10, 11, 12]"
      ]
     },
     "execution_count": 24,
     "metadata": {},
     "output_type": "execute_result"
    }
   ],
   "source": [
    "lst.insert(2,3) #insert() is used to add item in any location specified in our case at index=2, item 3 is inserted\n",
    "lst"
   ]
  },
  {
   "cell_type": "code",
   "execution_count": 25,
   "id": "2f7b9247",
   "metadata": {},
   "outputs": [
    {
     "data": {
      "text/plain": [
       "[5, 6, 8, 9, 1, 7, 10, 11, 12]"
      ]
     },
     "execution_count": 25,
     "metadata": {},
     "output_type": "execute_result"
    }
   ],
   "source": [
    "lst.remove(3) #remove() is used to remove specific item by it's value not by it's index\n",
    "lst"
   ]
  },
  {
   "cell_type": "code",
   "execution_count": 26,
   "id": "c969123b",
   "metadata": {},
   "outputs": [
    {
     "data": {
      "text/plain": [
       "[5, 6, 8, 9, 1, 7, 10, 11]"
      ]
     },
     "execution_count": 26,
     "metadata": {},
     "output_type": "execute_result"
    }
   ],
   "source": [
    "lst.pop() #pop() is used to remove last item from the list\n",
    "lst"
   ]
  },
  {
   "cell_type": "code",
   "execution_count": 27,
   "id": "0b8cdf67",
   "metadata": {},
   "outputs": [
    {
     "data": {
      "text/plain": [
       "[]"
      ]
     },
     "execution_count": 27,
     "metadata": {},
     "output_type": "execute_result"
    }
   ],
   "source": [
    "lst.clear() #clear() is used to delete all items in the list\n",
    "lst"
   ]
  },
  {
   "cell_type": "code",
   "execution_count": 28,
   "id": "8d0d69ca",
   "metadata": {},
   "outputs": [
    {
     "data": {
      "text/plain": [
       "[5, 6, 8, 9, 1, 1, 1]"
      ]
     },
     "execution_count": 28,
     "metadata": {},
     "output_type": "execute_result"
    }
   ],
   "source": [
    "lst = [5,6,8,9,1,1,1]\n",
    "lst"
   ]
  },
  {
   "cell_type": "code",
   "execution_count": 29,
   "id": "f865eccb",
   "metadata": {},
   "outputs": [
    {
     "data": {
      "text/plain": [
       "2"
      ]
     },
     "execution_count": 29,
     "metadata": {},
     "output_type": "execute_result"
    }
   ],
   "source": [
    "lst.index(8) #index() is used to identity index of the given value"
   ]
  },
  {
   "cell_type": "code",
   "execution_count": 30,
   "id": "ee7992ad",
   "metadata": {},
   "outputs": [
    {
     "data": {
      "text/plain": [
       "3"
      ]
     },
     "execution_count": 30,
     "metadata": {},
     "output_type": "execute_result"
    }
   ],
   "source": [
    "lst.count(1) #count() is used to find how many time the number is repeated"
   ]
  },
  {
   "cell_type": "code",
   "execution_count": 31,
   "id": "0ca79871",
   "metadata": {},
   "outputs": [
    {
     "data": {
      "text/plain": [
       "[1, 1, 1, 5, 6, 8, 9]"
      ]
     },
     "execution_count": 31,
     "metadata": {},
     "output_type": "execute_result"
    }
   ],
   "source": [
    "lst.sort() # sort() is used to sort items present in the list\n",
    "lst"
   ]
  },
  {
   "cell_type": "code",
   "execution_count": 32,
   "id": "cf6cc437",
   "metadata": {},
   "outputs": [
    {
     "data": {
      "text/plain": [
       "[9, 8, 6, 5, 1, 1, 1]"
      ]
     },
     "execution_count": 32,
     "metadata": {},
     "output_type": "execute_result"
    }
   ],
   "source": [
    "lst.reverse() #reverse() is used to reverse the order of item present in the list\n",
    "lst"
   ]
  },
  {
   "cell_type": "markdown",
   "id": "aa1bc900",
   "metadata": {},
   "source": [
    "2. Create a tuple that stores 3 student names. Try changing the second name in the tuple. What happens? Explain why."
   ]
  },
  {
   "cell_type": "code",
   "execution_count": 33,
   "id": "eb5dba8e",
   "metadata": {},
   "outputs": [
    {
     "data": {
      "text/plain": [
       "('prathap', 'sudeep', 'ravi')"
      ]
     },
     "execution_count": 33,
     "metadata": {},
     "output_type": "execute_result"
    }
   ],
   "source": [
    "tup = ('prathap','sudeep','ravi') #creating a tuple\n",
    "tup"
   ]
  },
  {
   "cell_type": "code",
   "execution_count": 34,
   "id": "adce32c5",
   "metadata": {},
   "outputs": [
    {
     "ename": "TypeError",
     "evalue": "'tuple' object does not support item assignment",
     "output_type": "error",
     "traceback": [
      "\u001b[1;31m---------------------------------------------------------------------------\u001b[0m",
      "\u001b[1;31mTypeError\u001b[0m                                 Traceback (most recent call last)",
      "Cell \u001b[1;32mIn[34], line 1\u001b[0m\n\u001b[1;32m----> 1\u001b[0m \u001b[43mtup\u001b[49m\u001b[43m[\u001b[49m\u001b[38;5;241;43m1\u001b[39;49m\u001b[43m]\u001b[49m \u001b[38;5;241m=\u001b[39m \u001b[38;5;124m'\u001b[39m\u001b[38;5;124marjun\u001b[39m\u001b[38;5;124m'\u001b[39m\n",
      "\u001b[1;31mTypeError\u001b[0m: 'tuple' object does not support item assignment"
     ]
    }
   ],
   "source": [
    "tup[1] = 'arjun'"
   ]
  },
  {
   "cell_type": "markdown",
   "id": "94a2d9b8",
   "metadata": {},
   "source": [
    "TypeError: 'tuple' object does not support item assignment\n",
    "\n",
    "ans= unlike list, the tuples are immutable. Once the tuple is created it cannot change, add, or remove any of its items/elements."
   ]
  },
  {
   "cell_type": "markdown",
   "id": "ae127b37",
   "metadata": {},
   "source": [
    "3. Create a set of integers with some duplicate values. Print the set and explain the output."
   ]
  },
  {
   "cell_type": "code",
   "execution_count": 35,
   "id": "1264d10f",
   "metadata": {},
   "outputs": [
    {
     "data": {
      "text/plain": [
       "{1, 2, 6, 7, 8}"
      ]
     },
     "execution_count": 35,
     "metadata": {},
     "output_type": "execute_result"
    }
   ],
   "source": [
    "set1 = {1,2,8,6,7,2,8} #creating sets\n",
    "set1"
   ]
  },
  {
   "cell_type": "markdown",
   "id": "daf5b77f",
   "metadata": {},
   "source": [
    "Explaination: A set in Python is an unordered collection of unique elements. When you create a set, duplicate values are automatically removed and sorted\n",
    "\n",
    "that's why the output is (1,2,6,7,8)"
   ]
  },
  {
   "cell_type": "markdown",
   "id": "cfaded54",
   "metadata": {},
   "source": [
    "4. Create a dictionary with the keys: 'name', 'age', and 'city'. Update the age and add a new key 'email'. Print the final dictionary.\n"
   ]
  },
  {
   "cell_type": "code",
   "execution_count": 36,
   "id": "23cca56e",
   "metadata": {},
   "outputs": [
    {
     "data": {
      "text/plain": [
       "{'name': ['Sudeep', 'abhishek', 'pooja', 'aditya'],\n",
       " 'age': [22, 21, 40, 43],\n",
       " 'city': ['vijayapur', 'hubli', 'dharwad', 'mysore']}"
      ]
     },
     "execution_count": 36,
     "metadata": {},
     "output_type": "execute_result"
    }
   ],
   "source": [
    "dict = {'name': ['Sudeep','abhishek','pooja','aditya'],\n",
    "        'age': [22,21,40,43], \n",
    "        'city': ['vijayapur','hubli','dharwad','mysore']}\n",
    "dict"
   ]
  },
  {
   "cell_type": "code",
   "execution_count": null,
   "id": "f6f84ac0",
   "metadata": {},
   "outputs": [
    {
     "data": {
      "text/plain": [
       "{'name': ['Sudeep', 'abhishek', 'pooja', 'aditya'],\n",
       " 'age': [22, 21, 40, 43],\n",
       " 'city': ['vijayapur', 'hubli', 'dharwad', 'mysore'],\n",
       " 'email': ['sudeep@gmail.com',\n",
       "  'abhi@gmail.com',\n",
       "  'pooja@gmail.com',\n",
       "  'aditya@gmail.com']}"
      ]
     },
     "execution_count": 38,
     "metadata": {},
     "output_type": "execute_result"
    }
   ],
   "source": [
    "dict.setdefault('email', ['sudeep@gmail.com','abhi@gmail.com','pooja@gmail.com','aditya@gmail.com']) #adding a new key using setdefault\n",
    "dict"
   ]
  },
  {
   "cell_type": "code",
   "execution_count": null,
   "id": "c69028ee",
   "metadata": {},
   "outputs": [
    {
     "data": {
      "text/plain": [
       "{'name': ['Sudeep', 'abhishek', 'pooja', 'aditya'],\n",
       " 'age': [20, 21, 22, 23],\n",
       " 'city': ['vijayapur', 'hubli', 'dharwad', 'mysore'],\n",
       " 'email': ['sudeep@gmail.com',\n",
       "  'abhi@gmail.com',\n",
       "  'pooja@gmail.com',\n",
       "  'aditya@gmail.com']}"
      ]
     },
     "execution_count": 42,
     "metadata": {},
     "output_type": "execute_result"
    }
   ],
   "source": [
    "dict.update({'age':[20,21,22,23]}) # update() used to update values\n",
    "dict"
   ]
  },
  {
   "cell_type": "markdown",
   "id": "a4d2f12d",
   "metadata": {},
   "source": [
    "5. Write a script that checks if a person is eligible to vote (age ≥ 18). Take age as a variable and print the appropriate message."
   ]
  },
  {
   "cell_type": "code",
   "execution_count": null,
   "id": "ce64c813",
   "metadata": {},
   "outputs": [
    {
     "name": "stdout",
     "output_type": "stream",
     "text": [
      "Eligible to vote\n"
     ]
    }
   ],
   "source": [
    "age = int(input(\"Enter the age\")) \n",
    "if age>=18: # checks condition wheather the person is more than 18 age or not\n",
    "    print(\"Eligible to vote\")\n",
    "else:\n",
    "    print(\"Not Eligible to vote\")"
   ]
  },
  {
   "cell_type": "markdown",
   "id": "54305ad8",
   "metadata": {},
   "source": [
    "6. Given a 'marks' variable, print the grade: \n",
    "- 90 and above: 'A' \n",
    "- 75–89: 'B' \n",
    "- 50–74: 'C' \n",
    "- Below 50: 'Fail'"
   ]
  },
  {
   "cell_type": "code",
   "execution_count": null,
   "id": "927a4cd0",
   "metadata": {},
   "outputs": [
    {
     "name": "stdout",
     "output_type": "stream",
     "text": [
      "Marks = 56\n",
      "Grade = C\n"
     ]
    }
   ],
   "source": [
    "marks = int(input(\"Enter the marks\"))\n",
    "print(\"Marks =\",marks)\n",
    "if marks >= 90:  #Checks condition for 90 and above: 'A'\n",
    "    print(\"Grade = A\")\n",
    "if 75<=marks<=89: #Checks condition for  75–89: 'B' \n",
    "    print(\"Grade = B\")\n",
    "if 50<=marks<=74: #Checks condition for  50–74: 'C' \n",
    "    print(\"Grade = C\")\n",
    "if marks<50:      #Checks condition for  Below 50: 'Fail'\n",
    "    print(\"Grade = Fail\")"
   ]
  },
  {
   "cell_type": "markdown",
   "id": "579039c7",
   "metadata": {},
   "source": [
    "7. Given a number, check if it's positive, and if it is also even. If not positive, print if it's zero or negative."
   ]
  },
  {
   "cell_type": "code",
   "execution_count": null,
   "id": "6cd1c586",
   "metadata": {},
   "outputs": [
    {
     "name": "stdout",
     "output_type": "stream",
     "text": [
      "The number is negative\n"
     ]
    }
   ],
   "source": [
    "number = int(input(\"Enter the number\"))\n",
    "if number > 0:  # Check if the number is positive\n",
    "    if number % 2 ==0:  # If positive, check if it's even\n",
    "        print(\"The number is positive and even\")\n",
    "    else:\n",
    "        print(\"The number is positive and odd\")\n",
    "elif number==0: # Check if the number is zero\n",
    "    print(\"The number is zero\")\n",
    "else:\n",
    "    print(\"The number is negative\")"
   ]
  },
  {
   "cell_type": "markdown",
   "id": "7fbbf673",
   "metadata": {},
   "source": [
    "#### Section B: Numpy"
   ]
  },
  {
   "cell_type": "markdown",
   "id": "b90e27af",
   "metadata": {},
   "source": [
    "8. Create: \n",
    "- A scalar using np.array(5) \n",
    "- A 1D array with values 1 to 5 \n",
    "- A 2D array (2x3) with values from 10 to 60 in steps of 10"
   ]
  },
  {
   "cell_type": "code",
   "execution_count": 66,
   "id": "50fafc45",
   "metadata": {},
   "outputs": [],
   "source": [
    "import numpy as np"
   ]
  },
  {
   "cell_type": "code",
   "execution_count": 53,
   "id": "615fba07",
   "metadata": {},
   "outputs": [
    {
     "data": {
      "text/plain": [
       "array(5)"
      ]
     },
     "execution_count": 53,
     "metadata": {},
     "output_type": "execute_result"
    }
   ],
   "source": [
    "np.array(5)"
   ]
  },
  {
   "cell_type": "code",
   "execution_count": 63,
   "id": "20dd28e8",
   "metadata": {},
   "outputs": [
    {
     "data": {
      "text/plain": [
       "array([1, 2, 3, 4, 5])"
      ]
     },
     "execution_count": 63,
     "metadata": {},
     "output_type": "execute_result"
    }
   ],
   "source": [
    "one_dim = np.array([1,2,3,4,5]) #Creating one dimention array\n",
    "one_dim"
   ]
  },
  {
   "cell_type": "code",
   "execution_count": 74,
   "id": "91ca7c4e",
   "metadata": {},
   "outputs": [
    {
     "data": {
      "text/plain": [
       "array([[10, 20, 30],\n",
       "       [40, 50, 60]])"
      ]
     },
     "execution_count": 74,
     "metadata": {},
     "output_type": "execute_result"
    }
   ],
   "source": [
    "two_dim = np.arange(10,70,10).reshape(2,3) #Creating 2D array (2x3) with values from 10 to 60 in steps of 10\n",
    "two_dim"
   ]
  },
  {
   "cell_type": "markdown",
   "id": "4d40c641",
   "metadata": {},
   "source": [
    "9. Generate a 4x4 Numpy array of random integers between 0 and 100 using np.random.randint()."
   ]
  },
  {
   "cell_type": "code",
   "execution_count": 80,
   "id": "64fef15c",
   "metadata": {},
   "outputs": [
    {
     "data": {
      "text/plain": [
       "array([[73, 38, 51, 23],\n",
       "       [16, 89, 98, 36],\n",
       "       [57, 39, 11, 89],\n",
       "       [64, 44, 25, 62]])"
      ]
     },
     "execution_count": 80,
     "metadata": {},
     "output_type": "execute_result"
    }
   ],
   "source": [
    "np.random.randint(0,100,16).reshape(4,4) #Generate a 4x4 Numpy array of random integers between 0 and 100"
   ]
  },
  {
   "cell_type": "markdown",
   "id": "8563fdc4",
   "metadata": {},
   "source": [
    "10. Create a 2D numpy array of shape (3x3). Convert it into a pandas DataFrame and add column names: 'A', 'B', 'C'."
   ]
  },
  {
   "cell_type": "code",
   "execution_count": null,
   "id": "f18ba1ff",
   "metadata": {},
   "outputs": [
    {
     "data": {
      "text/plain": [
       "array([[2, 3, 4],\n",
       "       [5, 6, 7],\n",
       "       [8, 9, 5]])"
      ]
     },
     "execution_count": 83,
     "metadata": {},
     "output_type": "execute_result"
    }
   ],
   "source": [
    "two = np.array([[2,3,4],[5,6,7],[8,9,5]]) #Creating 2D array of shape (3x3)\n",
    "two"
   ]
  },
  {
   "cell_type": "code",
   "execution_count": 84,
   "id": "2f6a6021",
   "metadata": {},
   "outputs": [],
   "source": [
    "import pandas as pd"
   ]
  },
  {
   "cell_type": "code",
   "execution_count": 89,
   "id": "cef65d8f",
   "metadata": {},
   "outputs": [
    {
     "data": {
      "text/html": [
       "<div>\n",
       "<style scoped>\n",
       "    .dataframe tbody tr th:only-of-type {\n",
       "        vertical-align: middle;\n",
       "    }\n",
       "\n",
       "    .dataframe tbody tr th {\n",
       "        vertical-align: top;\n",
       "    }\n",
       "\n",
       "    .dataframe thead th {\n",
       "        text-align: right;\n",
       "    }\n",
       "</style>\n",
       "<table border=\"1\" class=\"dataframe\">\n",
       "  <thead>\n",
       "    <tr style=\"text-align: right;\">\n",
       "      <th></th>\n",
       "      <th>A</th>\n",
       "      <th>B</th>\n",
       "      <th>C</th>\n",
       "    </tr>\n",
       "  </thead>\n",
       "  <tbody>\n",
       "    <tr>\n",
       "      <th>0</th>\n",
       "      <td>2</td>\n",
       "      <td>3</td>\n",
       "      <td>4</td>\n",
       "    </tr>\n",
       "    <tr>\n",
       "      <th>1</th>\n",
       "      <td>5</td>\n",
       "      <td>6</td>\n",
       "      <td>7</td>\n",
       "    </tr>\n",
       "    <tr>\n",
       "      <th>2</th>\n",
       "      <td>8</td>\n",
       "      <td>9</td>\n",
       "      <td>5</td>\n",
       "    </tr>\n",
       "  </tbody>\n",
       "</table>\n",
       "</div>"
      ],
      "text/plain": [
       "   A  B  C\n",
       "0  2  3  4\n",
       "1  5  6  7\n",
       "2  8  9  5"
      ]
     },
     "execution_count": 89,
     "metadata": {},
     "output_type": "execute_result"
    }
   ],
   "source": [
    "df = pd.DataFrame(two,columns= ['A','B','C']) #Converting it into a pandas DataFrame and add column names: 'A', 'B', 'C'.\n",
    "df"
   ]
  },
  {
   "cell_type": "markdown",
   "id": "1b2b7eeb",
   "metadata": {},
   "source": [
    "#### Section C: Exploring Pandas"
   ]
  },
  {
   "cell_type": "markdown",
   "id": "53265648",
   "metadata": {},
   "source": [
    "11. Create a small DataFrame manually with 10 rows and columns: 'Name', 'Age', 'City', and 'Salary'. Then: \n",
    "- Use .info(), .describe() \n",
    "- Select 'Name' and 'City' columns \n",
    "- Drop 'City' column \n",
    "- Fill any missing values in 'Salary' column with the mean \n",
    "- Remove any duplicate rows"
   ]
  },
  {
   "cell_type": "code",
   "execution_count": 142,
   "id": "b3bf7e09",
   "metadata": {},
   "outputs": [
    {
     "name": "stdout",
     "output_type": "stream",
     "text": [
      "{'Name': ['adi', 'mani', 'gopi', 'abhi', 'joshi', 'kokila', 'chokila', 'srilila', 'vishal', 'binod'], 'Age': [22, 23, 24, 25, 26, 27, 28, 29, 30, 21], 'City': ['vijayapur', 'hubli', 'bidar', 'bagalokot', 'benglore', 'udupi', 'mumbai', 'pune', 'delhi', 'mysore'], 'Salary': [1000, 2000, 3000, 1000, 4000, 5000, 6000, 7000, 8000, 9000]}\n"
     ]
    }
   ],
   "source": [
    "dict = {'Name' : ['adi','mani','gopi','abhi','joshi','kokila','chokila','srilila','vishal','binod'],\n",
    "        'Age': [22,23,24,25,26,27,28,29,30,21],\n",
    "        'City': ['vijayapur','hubli','bidar','bagalokot','benglore','udupi','mumbai','pune','delhi','mysore'],\n",
    "        'Salary': [1000,2000,3000,1000,4000,5000,6000,7000,8000,9000]}\n",
    "print(dict)"
   ]
  },
  {
   "cell_type": "code",
   "execution_count": 128,
   "id": "1db0bee1",
   "metadata": {},
   "outputs": [
    {
     "data": {
      "text/html": [
       "<div>\n",
       "<style scoped>\n",
       "    .dataframe tbody tr th:only-of-type {\n",
       "        vertical-align: middle;\n",
       "    }\n",
       "\n",
       "    .dataframe tbody tr th {\n",
       "        vertical-align: top;\n",
       "    }\n",
       "\n",
       "    .dataframe thead th {\n",
       "        text-align: right;\n",
       "    }\n",
       "</style>\n",
       "<table border=\"1\" class=\"dataframe\">\n",
       "  <thead>\n",
       "    <tr style=\"text-align: right;\">\n",
       "      <th></th>\n",
       "      <th>Name</th>\n",
       "      <th>Age</th>\n",
       "      <th>City</th>\n",
       "      <th>Salary</th>\n",
       "    </tr>\n",
       "  </thead>\n",
       "  <tbody>\n",
       "    <tr>\n",
       "      <th>0</th>\n",
       "      <td>adi</td>\n",
       "      <td>22</td>\n",
       "      <td>vijayapur</td>\n",
       "      <td>1000</td>\n",
       "    </tr>\n",
       "    <tr>\n",
       "      <th>1</th>\n",
       "      <td>mani</td>\n",
       "      <td>23</td>\n",
       "      <td>hubli</td>\n",
       "      <td>2000</td>\n",
       "    </tr>\n",
       "    <tr>\n",
       "      <th>2</th>\n",
       "      <td>gopi</td>\n",
       "      <td>24</td>\n",
       "      <td>bidar</td>\n",
       "      <td>3000</td>\n",
       "    </tr>\n",
       "    <tr>\n",
       "      <th>3</th>\n",
       "      <td>abhi</td>\n",
       "      <td>25</td>\n",
       "      <td>bagalokot</td>\n",
       "      <td>1000</td>\n",
       "    </tr>\n",
       "    <tr>\n",
       "      <th>4</th>\n",
       "      <td>joshi</td>\n",
       "      <td>26</td>\n",
       "      <td>benglore</td>\n",
       "      <td>4000</td>\n",
       "    </tr>\n",
       "    <tr>\n",
       "      <th>5</th>\n",
       "      <td>kokila</td>\n",
       "      <td>27</td>\n",
       "      <td>udupi</td>\n",
       "      <td>5000</td>\n",
       "    </tr>\n",
       "    <tr>\n",
       "      <th>6</th>\n",
       "      <td>chokila</td>\n",
       "      <td>28</td>\n",
       "      <td>mumbai</td>\n",
       "      <td>6000</td>\n",
       "    </tr>\n",
       "    <tr>\n",
       "      <th>7</th>\n",
       "      <td>srilila</td>\n",
       "      <td>29</td>\n",
       "      <td>pune</td>\n",
       "      <td>7000</td>\n",
       "    </tr>\n",
       "    <tr>\n",
       "      <th>8</th>\n",
       "      <td>vishal</td>\n",
       "      <td>30</td>\n",
       "      <td>delhi</td>\n",
       "      <td>8000</td>\n",
       "    </tr>\n",
       "    <tr>\n",
       "      <th>9</th>\n",
       "      <td>binod</td>\n",
       "      <td>21</td>\n",
       "      <td>mysore</td>\n",
       "      <td>9000</td>\n",
       "    </tr>\n",
       "  </tbody>\n",
       "</table>\n",
       "</div>"
      ],
      "text/plain": [
       "      Name  Age       City  Salary\n",
       "0      adi   22  vijayapur    1000\n",
       "1     mani   23      hubli    2000\n",
       "2     gopi   24      bidar    3000\n",
       "3     abhi   25  bagalokot    1000\n",
       "4    joshi   26   benglore    4000\n",
       "5   kokila   27      udupi    5000\n",
       "6  chokila   28     mumbai    6000\n",
       "7  srilila   29       pune    7000\n",
       "8   vishal   30      delhi    8000\n",
       "9    binod   21     mysore    9000"
      ]
     },
     "execution_count": 128,
     "metadata": {},
     "output_type": "execute_result"
    }
   ],
   "source": [
    "df1 = pd.DataFrame(dict) \n",
    "df1"
   ]
  },
  {
   "cell_type": "code",
   "execution_count": null,
   "id": "f4b4efed",
   "metadata": {},
   "outputs": [
    {
     "name": "stdout",
     "output_type": "stream",
     "text": [
      "<class 'pandas.core.frame.DataFrame'>\n",
      "RangeIndex: 10 entries, 0 to 9\n",
      "Data columns (total 4 columns):\n",
      " #   Column  Non-Null Count  Dtype \n",
      "---  ------  --------------  ----- \n",
      " 0   Name    10 non-null     object\n",
      " 1   Age     10 non-null     int64 \n",
      " 2   City    10 non-null     object\n",
      " 3   Salary  10 non-null     int64 \n",
      "dtypes: int64(2), object(2)\n",
      "memory usage: 452.0+ bytes\n"
     ]
    }
   ],
   "source": [
    "df1.info() #Display info about DataFrame"
   ]
  },
  {
   "cell_type": "code",
   "execution_count": null,
   "id": "691abfb1",
   "metadata": {},
   "outputs": [
    {
     "data": {
      "text/html": [
       "<div>\n",
       "<style scoped>\n",
       "    .dataframe tbody tr th:only-of-type {\n",
       "        vertical-align: middle;\n",
       "    }\n",
       "\n",
       "    .dataframe tbody tr th {\n",
       "        vertical-align: top;\n",
       "    }\n",
       "\n",
       "    .dataframe thead th {\n",
       "        text-align: right;\n",
       "    }\n",
       "</style>\n",
       "<table border=\"1\" class=\"dataframe\">\n",
       "  <thead>\n",
       "    <tr style=\"text-align: right;\">\n",
       "      <th></th>\n",
       "      <th>Age</th>\n",
       "      <th>Salary</th>\n",
       "    </tr>\n",
       "  </thead>\n",
       "  <tbody>\n",
       "    <tr>\n",
       "      <th>count</th>\n",
       "      <td>10.00000</td>\n",
       "      <td>10.000000</td>\n",
       "    </tr>\n",
       "    <tr>\n",
       "      <th>mean</th>\n",
       "      <td>25.50000</td>\n",
       "      <td>4600.000000</td>\n",
       "    </tr>\n",
       "    <tr>\n",
       "      <th>std</th>\n",
       "      <td>3.02765</td>\n",
       "      <td>2875.181154</td>\n",
       "    </tr>\n",
       "    <tr>\n",
       "      <th>min</th>\n",
       "      <td>21.00000</td>\n",
       "      <td>1000.000000</td>\n",
       "    </tr>\n",
       "    <tr>\n",
       "      <th>25%</th>\n",
       "      <td>23.25000</td>\n",
       "      <td>2250.000000</td>\n",
       "    </tr>\n",
       "    <tr>\n",
       "      <th>50%</th>\n",
       "      <td>25.50000</td>\n",
       "      <td>4500.000000</td>\n",
       "    </tr>\n",
       "    <tr>\n",
       "      <th>75%</th>\n",
       "      <td>27.75000</td>\n",
       "      <td>6750.000000</td>\n",
       "    </tr>\n",
       "    <tr>\n",
       "      <th>max</th>\n",
       "      <td>30.00000</td>\n",
       "      <td>9000.000000</td>\n",
       "    </tr>\n",
       "  </tbody>\n",
       "</table>\n",
       "</div>"
      ],
      "text/plain": [
       "            Age       Salary\n",
       "count  10.00000    10.000000\n",
       "mean   25.50000  4600.000000\n",
       "std     3.02765  2875.181154\n",
       "min    21.00000  1000.000000\n",
       "25%    23.25000  2250.000000\n",
       "50%    25.50000  4500.000000\n",
       "75%    27.75000  6750.000000\n",
       "max    30.00000  9000.000000"
      ]
     },
     "execution_count": 130,
     "metadata": {},
     "output_type": "execute_result"
    }
   ],
   "source": [
    "df1.describe() #Show statistical summary"
   ]
  },
  {
   "cell_type": "code",
   "execution_count": null,
   "id": "3c16d4ed",
   "metadata": {},
   "outputs": [
    {
     "name": "stdout",
     "output_type": "stream",
     "text": [
      "      Name       City\n",
      "0      adi  vijayapur\n",
      "1     mani      hubli\n",
      "2     gopi      bidar\n",
      "3     abhi  bagalokot\n",
      "4    joshi   benglore\n",
      "5   kokila      udupi\n",
      "6  chokila     mumbai\n",
      "7  srilila       pune\n",
      "8   vishal      delhi\n",
      "9    binod     mysore\n"
     ]
    }
   ],
   "source": [
    "print(df1[['Name','City']]) #Select 'Name' and 'City' columns"
   ]
  },
  {
   "cell_type": "code",
   "execution_count": 132,
   "id": "17ffe268",
   "metadata": {},
   "outputs": [
    {
     "data": {
      "text/html": [
       "<div>\n",
       "<style scoped>\n",
       "    .dataframe tbody tr th:only-of-type {\n",
       "        vertical-align: middle;\n",
       "    }\n",
       "\n",
       "    .dataframe tbody tr th {\n",
       "        vertical-align: top;\n",
       "    }\n",
       "\n",
       "    .dataframe thead th {\n",
       "        text-align: right;\n",
       "    }\n",
       "</style>\n",
       "<table border=\"1\" class=\"dataframe\">\n",
       "  <thead>\n",
       "    <tr style=\"text-align: right;\">\n",
       "      <th></th>\n",
       "      <th>Name</th>\n",
       "      <th>Age</th>\n",
       "      <th>Salary</th>\n",
       "    </tr>\n",
       "  </thead>\n",
       "  <tbody>\n",
       "    <tr>\n",
       "      <th>0</th>\n",
       "      <td>adi</td>\n",
       "      <td>22</td>\n",
       "      <td>1000</td>\n",
       "    </tr>\n",
       "    <tr>\n",
       "      <th>1</th>\n",
       "      <td>mani</td>\n",
       "      <td>23</td>\n",
       "      <td>2000</td>\n",
       "    </tr>\n",
       "    <tr>\n",
       "      <th>2</th>\n",
       "      <td>gopi</td>\n",
       "      <td>24</td>\n",
       "      <td>3000</td>\n",
       "    </tr>\n",
       "    <tr>\n",
       "      <th>3</th>\n",
       "      <td>abhi</td>\n",
       "      <td>25</td>\n",
       "      <td>1000</td>\n",
       "    </tr>\n",
       "    <tr>\n",
       "      <th>4</th>\n",
       "      <td>joshi</td>\n",
       "      <td>26</td>\n",
       "      <td>4000</td>\n",
       "    </tr>\n",
       "    <tr>\n",
       "      <th>5</th>\n",
       "      <td>kokila</td>\n",
       "      <td>27</td>\n",
       "      <td>5000</td>\n",
       "    </tr>\n",
       "    <tr>\n",
       "      <th>6</th>\n",
       "      <td>chokila</td>\n",
       "      <td>28</td>\n",
       "      <td>6000</td>\n",
       "    </tr>\n",
       "    <tr>\n",
       "      <th>7</th>\n",
       "      <td>srilila</td>\n",
       "      <td>29</td>\n",
       "      <td>7000</td>\n",
       "    </tr>\n",
       "    <tr>\n",
       "      <th>8</th>\n",
       "      <td>vishal</td>\n",
       "      <td>30</td>\n",
       "      <td>8000</td>\n",
       "    </tr>\n",
       "    <tr>\n",
       "      <th>9</th>\n",
       "      <td>binod</td>\n",
       "      <td>21</td>\n",
       "      <td>9000</td>\n",
       "    </tr>\n",
       "  </tbody>\n",
       "</table>\n",
       "</div>"
      ],
      "text/plain": [
       "      Name  Age  Salary\n",
       "0      adi   22    1000\n",
       "1     mani   23    2000\n",
       "2     gopi   24    3000\n",
       "3     abhi   25    1000\n",
       "4    joshi   26    4000\n",
       "5   kokila   27    5000\n",
       "6  chokila   28    6000\n",
       "7  srilila   29    7000\n",
       "8   vishal   30    8000\n",
       "9    binod   21    9000"
      ]
     },
     "execution_count": 132,
     "metadata": {},
     "output_type": "execute_result"
    }
   ],
   "source": [
    "df1.drop(columns = ['City']) # droped column 'city'"
   ]
  },
  {
   "cell_type": "code",
   "execution_count": null,
   "id": "885bd8ea",
   "metadata": {},
   "outputs": [
    {
     "data": {
      "text/plain": [
       "Name      0\n",
       "Age       0\n",
       "City      0\n",
       "Salary    0\n",
       "dtype: int64"
      ]
     },
     "execution_count": 137,
     "metadata": {},
     "output_type": "execute_result"
    }
   ],
   "source": [
    "df1.isnull().sum() # used to check missing null values\n",
    "#If there are any missing values then we can use below code to fill missing values by filling with mean values\n",
    "# mean_salary = df[\"Salary\"].mean()\n",
    "# df[\"Salary\"] = df[\"Salary\"].fillna(mean_salary)"
   ]
  },
  {
   "cell_type": "code",
   "execution_count": 141,
   "id": "395f76a8",
   "metadata": {},
   "outputs": [
    {
     "data": {
      "text/plain": [
       "0"
      ]
     },
     "execution_count": 141,
     "metadata": {},
     "output_type": "execute_result"
    }
   ],
   "source": [
    "df1.duplicated().sum()\n",
    "#if there are any dublicates use below line code\n",
    "#df1.drop_duplicates() "
   ]
  }
 ],
 "metadata": {
  "kernelspec": {
   "display_name": "Python 3",
   "language": "python",
   "name": "python3"
  },
  "language_info": {
   "codemirror_mode": {
    "name": "ipython",
    "version": 3
   },
   "file_extension": ".py",
   "mimetype": "text/x-python",
   "name": "python",
   "nbconvert_exporter": "python",
   "pygments_lexer": "ipython3",
   "version": "3.12.4"
  }
 },
 "nbformat": 4,
 "nbformat_minor": 5
}
