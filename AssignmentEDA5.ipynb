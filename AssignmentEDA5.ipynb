{
 "cells": [
  {
   "cell_type": "markdown",
   "id": "3f7af9ee",
   "metadata": {},
   "source": [
    "Objective:\n",
    "\n",
    "The main goal of this assignment is to conduct a thorough exploratory analysis of the \"cardiographic.csv\" dataset to uncover insights, identify patterns, and understand the dataset's underlying structure. You will use statistical summaries, visualizations, and data manipulation techniques to explore the dataset comprehensively."
   ]
  },
  {
   "cell_type": "code",
   "execution_count": 138,
   "id": "53ca9960",
   "metadata": {},
   "outputs": [],
   "source": [
    "import pandas as pd\n",
    "import numpy as np\n",
    "import seaborn as sns\n",
    "import matplotlib.pyplot as plt"
   ]
  },
  {
   "cell_type": "code",
   "execution_count": 139,
   "id": "e929ff29",
   "metadata": {},
   "outputs": [],
   "source": [
    "df = pd.read_csv('Cardiotocographic.csv') #Loading dataset"
   ]
  },
  {
   "cell_type": "code",
   "execution_count": 140,
   "id": "44417706",
   "metadata": {},
   "outputs": [
    {
     "data": {
      "text/plain": [
       "(2126, 14)"
      ]
     },
     "execution_count": 140,
     "metadata": {},
     "output_type": "execute_result"
    }
   ],
   "source": [
    "df.shape"
   ]
  },
  {
   "cell_type": "code",
   "execution_count": 141,
   "id": "9d299747",
   "metadata": {},
   "outputs": [
    {
     "data": {
      "text/html": [
       "<div>\n",
       "<style scoped>\n",
       "    .dataframe tbody tr th:only-of-type {\n",
       "        vertical-align: middle;\n",
       "    }\n",
       "\n",
       "    .dataframe tbody tr th {\n",
       "        vertical-align: top;\n",
       "    }\n",
       "\n",
       "    .dataframe thead th {\n",
       "        text-align: right;\n",
       "    }\n",
       "</style>\n",
       "<table border=\"1\" class=\"dataframe\">\n",
       "  <thead>\n",
       "    <tr style=\"text-align: right;\">\n",
       "      <th></th>\n",
       "      <th>LB</th>\n",
       "      <th>AC</th>\n",
       "      <th>FM</th>\n",
       "      <th>UC</th>\n",
       "      <th>DL</th>\n",
       "      <th>DS</th>\n",
       "      <th>DP</th>\n",
       "      <th>ASTV</th>\n",
       "      <th>MSTV</th>\n",
       "      <th>ALTV</th>\n",
       "      <th>MLTV</th>\n",
       "      <th>Width</th>\n",
       "      <th>Tendency</th>\n",
       "      <th>NSP</th>\n",
       "    </tr>\n",
       "  </thead>\n",
       "  <tbody>\n",
       "    <tr>\n",
       "      <th>0</th>\n",
       "      <td>120.000000</td>\n",
       "      <td>0.000000</td>\n",
       "      <td>0.0</td>\n",
       "      <td>0.000000</td>\n",
       "      <td>0.000000</td>\n",
       "      <td>0.0</td>\n",
       "      <td>0.0</td>\n",
       "      <td>73.0</td>\n",
       "      <td>0.5</td>\n",
       "      <td>43.0</td>\n",
       "      <td>2.4</td>\n",
       "      <td>64.0</td>\n",
       "      <td>0.999926</td>\n",
       "      <td>2.0</td>\n",
       "    </tr>\n",
       "    <tr>\n",
       "      <th>1</th>\n",
       "      <td>132.000000</td>\n",
       "      <td>0.006380</td>\n",
       "      <td>0.0</td>\n",
       "      <td>0.006380</td>\n",
       "      <td>0.003190</td>\n",
       "      <td>0.0</td>\n",
       "      <td>0.0</td>\n",
       "      <td>17.0</td>\n",
       "      <td>2.1</td>\n",
       "      <td>0.0</td>\n",
       "      <td>10.4</td>\n",
       "      <td>130.0</td>\n",
       "      <td>0.000000</td>\n",
       "      <td>1.0</td>\n",
       "    </tr>\n",
       "    <tr>\n",
       "      <th>2</th>\n",
       "      <td>133.000000</td>\n",
       "      <td>0.003322</td>\n",
       "      <td>0.0</td>\n",
       "      <td>0.008306</td>\n",
       "      <td>0.003322</td>\n",
       "      <td>0.0</td>\n",
       "      <td>0.0</td>\n",
       "      <td>16.0</td>\n",
       "      <td>2.1</td>\n",
       "      <td>0.0</td>\n",
       "      <td>13.4</td>\n",
       "      <td>130.0</td>\n",
       "      <td>0.000000</td>\n",
       "      <td>1.0</td>\n",
       "    </tr>\n",
       "    <tr>\n",
       "      <th>3</th>\n",
       "      <td>134.000000</td>\n",
       "      <td>0.002561</td>\n",
       "      <td>0.0</td>\n",
       "      <td>0.007742</td>\n",
       "      <td>0.002561</td>\n",
       "      <td>0.0</td>\n",
       "      <td>0.0</td>\n",
       "      <td>16.0</td>\n",
       "      <td>2.4</td>\n",
       "      <td>0.0</td>\n",
       "      <td>23.0</td>\n",
       "      <td>117.0</td>\n",
       "      <td>1.000000</td>\n",
       "      <td>1.0</td>\n",
       "    </tr>\n",
       "    <tr>\n",
       "      <th>4</th>\n",
       "      <td>131.948232</td>\n",
       "      <td>0.006515</td>\n",
       "      <td>0.0</td>\n",
       "      <td>0.008143</td>\n",
       "      <td>0.000000</td>\n",
       "      <td>0.0</td>\n",
       "      <td>0.0</td>\n",
       "      <td>16.0</td>\n",
       "      <td>2.4</td>\n",
       "      <td>0.0</td>\n",
       "      <td>19.9</td>\n",
       "      <td>117.0</td>\n",
       "      <td>1.000000</td>\n",
       "      <td>1.0</td>\n",
       "    </tr>\n",
       "  </tbody>\n",
       "</table>\n",
       "</div>"
      ],
      "text/plain": [
       "           LB        AC   FM        UC        DL   DS   DP  ASTV  MSTV  ALTV  \\\n",
       "0  120.000000  0.000000  0.0  0.000000  0.000000  0.0  0.0  73.0   0.5  43.0   \n",
       "1  132.000000  0.006380  0.0  0.006380  0.003190  0.0  0.0  17.0   2.1   0.0   \n",
       "2  133.000000  0.003322  0.0  0.008306  0.003322  0.0  0.0  16.0   2.1   0.0   \n",
       "3  134.000000  0.002561  0.0  0.007742  0.002561  0.0  0.0  16.0   2.4   0.0   \n",
       "4  131.948232  0.006515  0.0  0.008143  0.000000  0.0  0.0  16.0   2.4   0.0   \n",
       "\n",
       "   MLTV  Width  Tendency  NSP  \n",
       "0   2.4   64.0  0.999926  2.0  \n",
       "1  10.4  130.0  0.000000  1.0  \n",
       "2  13.4  130.0  0.000000  1.0  \n",
       "3  23.0  117.0  1.000000  1.0  \n",
       "4  19.9  117.0  1.000000  1.0  "
      ]
     },
     "execution_count": 141,
     "metadata": {},
     "output_type": "execute_result"
    }
   ],
   "source": [
    "df.head()"
   ]
  },
  {
   "cell_type": "code",
   "execution_count": 142,
   "id": "d0c1d626",
   "metadata": {},
   "outputs": [
    {
     "name": "stdout",
     "output_type": "stream",
     "text": [
      "<class 'pandas.core.frame.DataFrame'>\n",
      "RangeIndex: 2126 entries, 0 to 2125\n",
      "Data columns (total 14 columns):\n",
      " #   Column    Non-Null Count  Dtype  \n",
      "---  ------    --------------  -----  \n",
      " 0   LB        2105 non-null   float64\n",
      " 1   AC        2106 non-null   float64\n",
      " 2   FM        2126 non-null   float64\n",
      " 3   UC        2126 non-null   float64\n",
      " 4   DL        2126 non-null   float64\n",
      " 5   DS        2105 non-null   float64\n",
      " 6   DP        2105 non-null   float64\n",
      " 7   ASTV      2126 non-null   float64\n",
      " 8   MSTV      2126 non-null   float64\n",
      " 9   ALTV      2126 non-null   float64\n",
      " 10  MLTV      2105 non-null   float64\n",
      " 11  Width     2105 non-null   float64\n",
      " 12  Tendency  2105 non-null   float64\n",
      " 13  NSP       2105 non-null   float64\n",
      "dtypes: float64(14)\n",
      "memory usage: 232.7 KB\n"
     ]
    }
   ],
   "source": [
    "df.info()"
   ]
  },
  {
   "cell_type": "code",
   "execution_count": 143,
   "id": "ad6cfb97",
   "metadata": {},
   "outputs": [
    {
     "data": {
      "text/plain": [
       "LB          21\n",
       "AC          20\n",
       "FM           0\n",
       "UC           0\n",
       "DL           0\n",
       "DS          21\n",
       "DP          21\n",
       "ASTV         0\n",
       "MSTV         0\n",
       "ALTV         0\n",
       "MLTV        21\n",
       "Width       21\n",
       "Tendency    21\n",
       "NSP         21\n",
       "dtype: int64"
      ]
     },
     "execution_count": 143,
     "metadata": {},
     "output_type": "execute_result"
    }
   ],
   "source": [
    "df.isnull().sum() #to check is there any null value"
   ]
  },
  {
   "cell_type": "code",
   "execution_count": 144,
   "id": "77253d10",
   "metadata": {},
   "outputs": [],
   "source": [
    "df.dropna(inplace=True) #to drop null values"
   ]
  },
  {
   "cell_type": "code",
   "execution_count": 145,
   "id": "1d4141e8",
   "metadata": {},
   "outputs": [
    {
     "data": {
      "text/plain": [
       "LB          0\n",
       "AC          0\n",
       "FM          0\n",
       "UC          0\n",
       "DL          0\n",
       "DS          0\n",
       "DP          0\n",
       "ASTV        0\n",
       "MSTV        0\n",
       "ALTV        0\n",
       "MLTV        0\n",
       "Width       0\n",
       "Tendency    0\n",
       "NSP         0\n",
       "dtype: int64"
      ]
     },
     "execution_count": 145,
     "metadata": {},
     "output_type": "execute_result"
    }
   ],
   "source": [
    "df.isnull().sum() "
   ]
  },
  {
   "cell_type": "code",
   "execution_count": 146,
   "id": "c7a28d12",
   "metadata": {},
   "outputs": [
    {
     "data": {
      "text/plain": [
       "np.int64(2)"
      ]
     },
     "execution_count": 146,
     "metadata": {},
     "output_type": "execute_result"
    }
   ],
   "source": [
    "df.duplicated().sum() #to check duplicates"
   ]
  },
  {
   "cell_type": "code",
   "execution_count": 147,
   "id": "680da78b",
   "metadata": {},
   "outputs": [],
   "source": [
    "df.drop_duplicates(inplace=True) #to remove duplicates"
   ]
  },
  {
   "cell_type": "code",
   "execution_count": 148,
   "id": "65b36315",
   "metadata": {},
   "outputs": [
    {
     "data": {
      "text/plain": [
       "np.int64(0)"
      ]
     },
     "execution_count": 148,
     "metadata": {},
     "output_type": "execute_result"
    }
   ],
   "source": [
    "df.duplicated().sum()"
   ]
  },
  {
   "cell_type": "code",
   "execution_count": 149,
   "id": "62479eda",
   "metadata": {},
   "outputs": [
    {
     "data": {
      "image/png": "[encoded data removed]",
      "text/plain": [
       "<Figure size 640x480 with 1 Axes>"
      ]
     },
     "metadata": {},
     "output_type": "display_data"
    }
   ],
   "source": [
    "df.boxplot() #To check outliers\n",
    "plt.show()"
   ]
  },
  {
   "cell_type": "code",
   "execution_count": 150,
   "id": "ed5df31f",
   "metadata": {},
   "outputs": [],
   "source": [
    "#outlier capping\n",
    "def outlier_capping(df,column):\n",
    "    Q1= df[column].quantile(0.25)\n",
    "    Q3= df[column].quantile(0.75)\n",
    "    IQR= Q3-Q1\n",
    "    lower_extreme= Q1-1.5*IQR\n",
    "    upper_extreme= Q3+1.5*IQR\n",
    "    df[column]= df[column].apply(lambda x: lower_extreme if x<lower_extreme else upper_extreme if x>upper_extreme else x)\n",
    "for col in df.select_dtypes(['int','float']).columns:\n",
    "    outlier_capping(df,col)"
   ]
  },
  {
   "cell_type": "code",
   "execution_count": 151,
   "id": "f69637d6",
   "metadata": {},
   "outputs": [
    {
     "data": {
      "image/png": "[encoded data removed]",
      "text/plain": [
       "<Figure size 640x480 with 1 Axes>"
      ]
     },
     "metadata": {},
     "output_type": "display_data"
    }
   ],
   "source": [
    "df.boxplot()\n",
    "plt.show()"
   ]
  },
  {
   "cell_type": "code",
   "execution_count": null,
   "id": "2d53b5ce",
   "metadata": {},
   "outputs": [
    {
     "data": {
      "text/html": [
       "<div>\n",
       "<style scoped>\n",
       "    .dataframe tbody tr th:only-of-type {\n",
       "        vertical-align: middle;\n",
       "    }\n",
       "\n",
       "    .dataframe tbody tr th {\n",
       "        vertical-align: top;\n",
       "    }\n",
       "\n",
       "    .dataframe thead th {\n",
       "        text-align: right;\n",
       "    }\n",
       "</style>\n",
       "<table border=\"1\" class=\"dataframe\">\n",
       "  <thead>\n",
       "    <tr style=\"text-align: right;\">\n",
       "      <th></th>\n",
       "      <th>LB</th>\n",
       "      <th>AC</th>\n",
       "      <th>FM</th>\n",
       "      <th>UC</th>\n",
       "      <th>DL</th>\n",
       "      <th>DS</th>\n",
       "      <th>DP</th>\n",
       "      <th>ASTV</th>\n",
       "      <th>MSTV</th>\n",
       "      <th>ALTV</th>\n",
       "      <th>MLTV</th>\n",
       "      <th>Width</th>\n",
       "      <th>Tendency</th>\n",
       "      <th>NSP</th>\n",
       "    </tr>\n",
       "  </thead>\n",
       "  <tbody>\n",
       "    <tr>\n",
       "      <th>mean</th>\n",
       "      <td>133.291604</td>\n",
       "      <td>0.003144</td>\n",
       "      <td>0.001565</td>\n",
       "      <td>0.004361</td>\n",
       "      <td>0.001770</td>\n",
       "      <td>0.0</td>\n",
       "      <td>0.0</td>\n",
       "      <td>46.999304</td>\n",
       "      <td>1.301912</td>\n",
       "      <td>6.733464</td>\n",
       "      <td>8.017610</td>\n",
       "      <td>70.351685</td>\n",
       "      <td>0.319999</td>\n",
       "      <td>1.0</td>\n",
       "    </tr>\n",
       "    <tr>\n",
       "      <th>median</th>\n",
       "      <td>133.000000</td>\n",
       "      <td>0.001631</td>\n",
       "      <td>0.000000</td>\n",
       "      <td>0.004484</td>\n",
       "      <td>0.000000</td>\n",
       "      <td>0.0</td>\n",
       "      <td>0.0</td>\n",
       "      <td>49.000000</td>\n",
       "      <td>1.200000</td>\n",
       "      <td>0.000000</td>\n",
       "      <td>7.400000</td>\n",
       "      <td>67.486468</td>\n",
       "      <td>0.000000</td>\n",
       "      <td>1.0</td>\n",
       "    </tr>\n",
       "    <tr>\n",
       "      <th>std</th>\n",
       "      <td>9.976211</td>\n",
       "      <td>0.003844</td>\n",
       "      <td>0.002477</td>\n",
       "      <td>0.003008</td>\n",
       "      <td>0.002675</td>\n",
       "      <td>0.0</td>\n",
       "      <td>0.0</td>\n",
       "      <td>17.633594</td>\n",
       "      <td>0.779896</td>\n",
       "      <td>10.400402</td>\n",
       "      <td>5.094192</td>\n",
       "      <td>39.773195</td>\n",
       "      <td>0.624916</td>\n",
       "      <td>0.0</td>\n",
       "    </tr>\n",
       "  </tbody>\n",
       "</table>\n",
       "</div>"
      ],
      "text/plain": [
       "                LB        AC        FM        UC        DL   DS   DP  \\\n",
       "mean    133.291604  0.003144  0.001565  0.004361  0.001770  0.0  0.0   \n",
       "median  133.000000  0.001631  0.000000  0.004484  0.000000  0.0  0.0   \n",
       "std       9.976211  0.003844  0.002477  0.003008  0.002675  0.0  0.0   \n",
       "\n",
       "             ASTV      MSTV       ALTV      MLTV      Width  Tendency  NSP  \n",
       "mean    46.999304  1.301912   6.733464  8.017610  70.351685  0.319999  1.0  \n",
       "median  49.000000  1.200000   0.000000  7.400000  67.486468  0.000000  1.0  \n",
       "std     17.633594  0.779896  10.400402  5.094192  39.773195  0.624916  0.0  "
      ]
     },
     "execution_count": 152,
     "metadata": {},
     "output_type": "execute_result"
    }
   ],
   "source": [
    "df.agg(['mean','median','std']) #central tendency (mean, median) and dispersion(std,IQR)"
   ]
  },
  {
   "cell_type": "code",
   "execution_count": null,
   "id": "244ebad8",
   "metadata": {},
   "outputs": [],
   "source": [
    "Q1 = df.quantile(0.25)\n",
    "Q3 = df.quantile(0.75)\n",
    "IQR = Q3 - Q1\n",
    "IQR"
   ]
  },
  {
   "cell_type": "markdown",
   "id": "e4ddbb2b",
   "metadata": {},
   "source": [
    "#### Key findings\n",
    "\n",
    "LB (Baseline Fetal Heart Rate) → Stable around 133 BPM with low variation — a key consistent indicator.\n",
    "\n",
    "ALTV (Abnormal Long-Term Variability) → Highly skewed (mean 6.7, median 0) — only a few abnormal cases.\n",
    "\n",
    "ASTV (Accelerations) → Moderate variation (std 17.6) — could be useful for distinguishing conditions.\n",
    "\n",
    "DS, DP, NSP → No variation — likely unimportant for analysis or modeling.\n",
    "\n",
    "Width → High variability — may need normalization or outlier handling."
   ]
  },
  {
   "cell_type": "code",
   "execution_count": null,
   "id": "d6aea4ff",
   "metadata": {},
   "outputs": [],
   "source": [
    "# Histograms\n",
    "df.hist(bins=20, figsize=(15, 10), color='skyblue', edgecolor='black')\n",
    "plt.suptitle(\"Distribution of Numerical Variables\", fontsize=16)\n",
    "plt.tight_layout()\n",
    "plt.show()"
   ]
  },
  {
   "cell_type": "code",
   "execution_count": null,
   "id": "949a8820",
   "metadata": {},
   "outputs": [],
   "source": [
    "# Scatter plot (example)\n",
    "plt.figure(figsize=(6, 5))\n",
    "sns.scatterplot(data=df, x='LB', y='ASTV', hue='NSP', palette='viridis')\n",
    "plt.title(\"Scatter Plot: LB vs ASTV\", fontsize=14)\n",
    "plt.show()"
   ]
  },
  {
   "cell_type": "code",
   "execution_count": null,
   "id": "c6f299af",
   "metadata": {},
   "outputs": [],
   "source": [
    "# Correlation heatmap\n",
    "plt.figure(figsize=(10, 8))\n",
    "corr = df.corr()\n",
    "sns.heatmap(corr, annot=True, cmap='coolwarm', fmt=\".2f\")\n",
    "plt.title(\"Correlation Heatmap\", fontsize=16)\n",
    "plt.show()"
   ]
  },
  {
   "cell_type": "code",
   "execution_count": null,
   "id": "92f5b1c1",
   "metadata": {},
   "outputs": [],
   "source": [
    "features = [col for col in df.columns if col != 'NSP']"
   ]
  },
  {
   "cell_type": "code",
   "execution_count": null,
   "id": "2cff4680",
   "metadata": {},
   "outputs": [],
   "source": [
    "# Violin plots for numeric variables by NSP\n",
    "plt.figure(figsize=(15, 8))\n",
    "for i, col in enumerate(features[:6], 1):  # First 6 features\n",
    "    plt.subplot(2, 3, i)\n",
    "    sns.violinplot(x='NSP', y=col, data=df, palette=\"Set2\")\n",
    "    plt.title(col, fontsize=12)\n",
    "    plt.xlabel(\"\")\n",
    "    plt.ylabel(\"\")\n",
    "\n",
    "plt.suptitle(\"Violin Plots of First 6 Numerical Features by NSP\", fontsize=16, y=1.02)\n",
    "plt.tight_layout()\n",
    "plt.show()\n"
   ]
  },
  {
   "cell_type": "code",
   "execution_count": null,
   "id": "05be4f78",
   "metadata": {},
   "outputs": [],
   "source": [
    "# Correlation Analysis\n",
    "plt.figure(figsize=(10, 8))\n",
    "corr = df.corr()\n",
    "sns.heatmap(corr, annot=True)\n",
    "plt.title(\"Correlation Heatmap Between Features\", fontsize=16)\n",
    "plt.show()"
   ]
  },
  {
   "cell_type": "markdown",
   "id": "beb5895e",
   "metadata": {},
   "source": [
    "####    Pattern Recognition and Insights\n",
    "\n",
    "DL ↔ MSTV (0.57) → Moderate positive relation, higher short-term variability linked with more decelerations.\n",
    "\n",
    "MSTV ↔ Width (0.65) → Strong correlation, consistent with normal fetal variability behavior.\n",
    "\n",
    "ASTV ↔ ALTV (0.44) → Moderate link, both rise together showing active fetal response.\n",
    "\n",
    "DL ↔ Width (0.52) → More decelerations occur when variability width increases.\n",
    "\n",
    "LB ↔ ASTV / ALTV (~0.3) → Slightly related; baseline heart rate changes with variability.\n",
    "\n",
    "NSP weakly correlated → Outcome depends on multiple features, not a single one.\n",
    "\n",
    "DS, DP near-zero correlation → Minimal influence, may be less important predictors."
   ]
  },
  {
   "cell_type": "markdown",
   "id": "5793fa89",
   "metadata": {},
   "source": [
    "####    Temporal Insight (if temporary data is available)\n",
    "\n",
    "Analyze how features like ASTV, MSTV, and DL change over time — rising trends may indicate fetal distress or activity cycles.\n",
    "\n",
    "Stable LB and UC patterns over time suggest healthy baseline and uterine conditions.\n",
    "\n",
    "Fluctuating variability (Width or Tendency) could reveal transitions between active and resting fetal states."
   ]
  },
  {
   "cell_type": "markdown",
   "id": "74d27bee",
   "metadata": {},
   "source": [
    "   ###  Conclusion\n",
    "\n",
    "The dataset primarily consists of numerical variables with moderate correlations among a few features such as MSTV–Width, DL–MSTV, and ASTV–ALTV, suggesting these pairs may influence fetal health conditions.\n",
    "\n",
    "Most variables show weak interdependence, meaning no single factor dominates the NSP classification — it’s a combined effect of multiple physiological signals.\n",
    "\n",
    "The lack of strong correlations indicates each parameter adds unique information, which is beneficial for machine learning models to learn diverse patterns.\n",
    "\n",
    "Temporal trends (if tracked) could help monitor changes in fetal well-being over time, improving early detection of distress conditions.\n",
    "\n",
    "Overall, these insights provide a solid foundation for predictive modeling and clinical decision-making, aiding doctors in assessing fetal health more accurately and efficiently."
   ]
  },
  {
   "cell_type": "markdown",
   "id": "01599b8d",
   "metadata": {},
   "source": []
  }
 ],
 "metadata": {
  "kernelspec": {
   "display_name": "Python 3",
   "language": "python",
   "name": "python3"
  },
  "language_info": {
   "codemirror_mode": {
    "name": "ipython",
    "version": 3
   },
   "file_extension": ".py",
   "mimetype": "text/x-python",
   "name": "python",
   "nbconvert_exporter": "python",
   "pygments_lexer": "ipython3",
   "version": "3.12.10"
  }
 },
 "nbformat": 4,
 "nbformat_minor": 5
}
