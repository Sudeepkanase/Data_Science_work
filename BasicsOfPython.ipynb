{
 "cells": [
  {
   "cell_type": "markdown",
   "id": "e8d68a58",
   "metadata": {},
   "source": [
    "#### Exercise 1: Prime Numbers\n",
    "##### Write a Python program that checks whether a given number is prime or not. A prime number is a natural number greater than 1 that has no positive divisors other than 1 and itself."
   ]
  },
  {
   "cell_type": "code",
   "execution_count": null,
   "id": "128cbc22",
   "metadata": {},
   "outputs": [
    {
     "name": "stdout",
     "output_type": "stream",
     "text": [
      "9 is not a prime number.\n"
     ]
    }
   ],
   "source": [
    "num = int(input(\"Enter a number: \")) # user input\n",
    "# Prime numbers are greater than 1\n",
    "if num > 1:\n",
    "    for i in range(2, num):\n",
    "        if num % i == 0:\n",
    "            print(num, \"is not a prime number.\")\n",
    "            break\n",
    "    else:\n",
    "        print(num, \"is a prime number.\")\n",
    "else:\n",
    "    print(num, \"is not a prime number.\")\n"
   ]
  },
  {
   "cell_type": "markdown",
   "id": "f3797f85",
   "metadata": {},
   "source": [
    "#### Exercise 2: Product of Random Numbers\n",
    "##### Develop a Python program that generates two random numbers and asks the user to enter the product of these numbers. The program should then check if the user's answer is correct and display an appropriate message."
   ]
  },
  {
   "cell_type": "code",
   "execution_count": 18,
   "id": "12690da4",
   "metadata": {},
   "outputs": [],
   "source": [
    "import random # import random for generating random number "
   ]
  },
  {
   "cell_type": "code",
   "execution_count": 34,
   "id": "249c2b4e",
   "metadata": {},
   "outputs": [
    {
     "name": "stdout",
     "output_type": "stream",
     "text": [
      "What is 9 x 5 ?\n",
      "Wrong. The correct answer is 45\n"
     ]
    }
   ],
   "source": [
    "# generate two random numbers\n",
    "a = random.randint(1, 10)\n",
    "b = random.randint(1, 10)\n",
    "\n",
    "# ask user for the product\n",
    "print(\"What is\", a, \"x\", b, \"?\")\n",
    "n = int(input(\"Enter your answer: \"))\n",
    "\n",
    "# check if correct\n",
    "if n == a * b:\n",
    "    print(\"Correct\")\n",
    "else:\n",
    "    print(\"Wrong. The correct answer is\", a * b)\n"
   ]
  },
  {
   "cell_type": "markdown",
   "id": "faa66e54",
   "metadata": {},
   "source": [
    "#### Exercise 3: Squares of Even/Odd Numbers\n",
    "##### Create a Python script that prints the squares of all even or odd numbers within the range of 100 to 200. Choose either even or odd numbers and document your choice in the code."
   ]
  },
  {
   "cell_type": "code",
   "execution_count": null,
   "id": "d1607273",
   "metadata": {},
   "outputs": [],
   "source": [
    "# Squares of Odd Numbers\n",
    "for num in range(100, 201):\n",
    "    if num % 2 != 0:   # odd numbers\n",
    "        print(f\"{num}^2 = {num ** 2}\")"
   ]
  },
  {
   "cell_type": "code",
   "execution_count": null,
   "id": "17818b64",
   "metadata": {},
   "outputs": [],
   "source": [
    "# Squares of Odd Numbers\n",
    "for num in range(100, 201):\n",
    "    if num % 2 != 0:   # odd numbers\n",
    "        print(f\"{num}^2 = {num ** 2}\")"
   ]
  },
  {
   "cell_type": "markdown",
   "id": "f81e2d1c",
   "metadata": {},
   "source": [
    "#### Exercise 4:\n",
    "\n",
    "✅ Problem Statement (Question): Hospital Billing System\n",
    "A hospital charges its patients based on the following:\n",
    "· Room charges per day: ₹2,000\n",
    "· Doctor consultation fee (flat): ₹1,500\n",
    "· Lab test charges: Based on the number of tests taken. Each test costs ₹300\n",
    "· Medicine charges: Total cost of medicines provided\n",
    "· Discount: If the total bill (before discount) exceeds ₹10,000, a 10% discount is applied\n",
    "Write a Python program to calculate the final bill for a patient who:\n",
    "· Stayed for 4 days\n",
    "· Had 3 lab tests\n",
    "· Had medicine charges of ₹2,400"
   ]
  },
  {
   "cell_type": "code",
   "execution_count": 48,
   "id": "a5ab8088",
   "metadata": {},
   "outputs": [
    {
     "name": "stdout",
     "output_type": "stream",
     "text": [
      "------ Hospital Bill ------\n",
      "Room Charges ( 4 days): ₹ 8000\n",
      "Doctor Consultation Fee: ₹ 1500\n",
      "Lab Test Charges ( 3 tests): ₹ 900\n",
      "Medicine Charges: ₹ 2400\n",
      "Subtotal: ₹ 12800\n",
      "Discount: ₹ 1280.0\n",
      "Final Bill: ₹ 11520.0\n"
     ]
    }
   ],
   "source": [
    "# Charges\n",
    "room_charge_per_day = 2000\n",
    "doctor_fee = 1500\n",
    "lab_test_charge = 300\n",
    "\n",
    "# Patient details\n",
    "days_stayed = 4\n",
    "lab_tests = 3\n",
    "medicine_charges = 2400\n",
    "\n",
    "# Bill calculation\n",
    "room_total = days_stayed * room_charge_per_day\n",
    "lab_total = lab_tests * lab_test_charge\n",
    "subtotal = room_total + doctor_fee + lab_total + medicine_charges\n",
    "\n",
    "# Apply discount if applicable\n",
    "if subtotal > 10000:\n",
    "    discount = 0.10 * subtotal\n",
    "else:\n",
    "    discount = 0\n",
    "\n",
    "final_bill = subtotal - discount\n",
    "\n",
    "# Print bill\n",
    "print(\"------ Hospital Bill ------\")\n",
    "print(\"Room Charges (\", days_stayed, \"days): ₹\", room_total)\n",
    "print(\"Doctor Consultation Fee: ₹\", doctor_fee)\n",
    "print(\"Lab Test Charges (\", lab_tests, \"tests): ₹\", lab_total)\n",
    "print(\"Medicine Charges: ₹\", medicine_charges)\n",
    "print(\"Subtotal: ₹\", subtotal)\n",
    "print(\"Discount: ₹\", discount)\n",
    "print(\"Final Bill: ₹\", final_bill)\n"
   ]
  },
  {
   "cell_type": "code",
   "execution_count": null,
   "id": "3ad29dc6",
   "metadata": {},
   "outputs": [],
   "source": []
  }
 ],
 "metadata": {
  "kernelspec": {
   "display_name": "Python 3",
   "language": "python",
   "name": "python3"
  },
  "language_info": {
   "codemirror_mode": {
    "name": "ipython",
    "version": 3
   },
   "file_extension": ".py",
   "mimetype": "text/x-python",
   "name": "python",
   "nbconvert_exporter": "python",
   "pygments_lexer": "ipython3",
   "version": "3.12.4"
  }
 },
 "nbformat": 4,
 "nbformat_minor": 5
}
